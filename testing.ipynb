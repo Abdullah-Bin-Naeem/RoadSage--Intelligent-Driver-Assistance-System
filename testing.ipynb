{
 "cells": [
  {
   "cell_type": "code",
   "execution_count": 3,
   "metadata": {},
   "outputs": [
    {
     "name": "stdout",
     "output_type": "stream",
     "text": [
      "Video Dimensions:\n",
      "Width: 848\n",
      "Height: 480\n"
     ]
    }
   ],
   "source": [
    "import cv2\n",
    "\n",
    "# Path to the video file\n",
    "video_path = \"inference/videos/2.mp4\"\n",
    "\n",
    "# Open the video file\n",
    "cap = cv2.VideoCapture(video_path)\n",
    "\n",
    "# Check if the video file was opened successfully\n",
    "if not cap.isOpened():\n",
    "    print(\"Error: Couldn't open the video file.\")\n",
    "    exit()\n",
    "\n",
    "# Read the first frame to get dimensions\n",
    "ret, frame = cap.read()\n",
    "\n",
    "# Check if the frame was read successfully\n",
    "if not ret:\n",
    "    print(\"Error: Couldn't read the first frame.\")\n",
    "    cap.release()\n",
    "    exit()\n",
    "\n",
    "# Get dimensions of the frame\n",
    "height, width, _ = frame.shape\n",
    "\n",
    "print(\"Video Dimensions:\")\n",
    "print(\"Width:\", width)\n",
    "print(\"Height:\", height)\n",
    "\n",
    "# Release the video capture object\n",
    "cap.release()\n"
   ]
  },
  {
   "cell_type": "code",
   "execution_count": 1,
   "metadata": {},
   "outputs": [
    {
     "name": "stdout",
     "output_type": "stream",
     "text": [
      "Video Dimensions:\n",
      "Width: 1280\n",
      "Height: 720\n"
     ]
    }
   ],
   "source": [
    "import cv2\n",
    "\n",
    "# Path to the video file\n",
    "video_path = \"inference/videos/1.mp4\"\n",
    "\n",
    "# Open the video file\n",
    "cap = cv2.VideoCapture(video_path)\n",
    "\n",
    "# Check if the video file was opened successfully\n",
    "if not cap.isOpened():\n",
    "    print(\"Error: Couldn't open the video file.\")\n",
    "    exit()\n",
    "\n",
    "# Read the first frame to get dimensions\n",
    "ret, frame = cap.read()\n",
    "\n",
    "# Check if the frame was read successfully\n",
    "if not ret:\n",
    "    print(\"Error: Couldn't read the first frame.\")\n",
    "    cap.release()\n",
    "    exit()\n",
    "\n",
    "# Get dimensions of the frame\n",
    "height, width, _ = frame.shape\n",
    "\n",
    "print(\"Video Dimensions:\")\n",
    "print(\"Width:\", width)\n",
    "print(\"Height:\", height)\n",
    "\n",
    "# Release the video capture object\n",
    "cap.release()\n"
   ]
  },
  {
   "cell_type": "code",
   "execution_count": null,
   "metadata": {},
   "outputs": [],
   "source": []
  }
 ],
 "metadata": {
  "kernelspec": {
   "display_name": "myenv",
   "language": "python",
   "name": "python3"
  },
  "language_info": {
   "codemirror_mode": {
    "name": "ipython",
    "version": 3
   },
   "file_extension": ".py",
   "mimetype": "text/x-python",
   "name": "python",
   "nbconvert_exporter": "python",
   "pygments_lexer": "ipython3",
   "version": "3.9.19"
  }
 },
 "nbformat": 4,
 "nbformat_minor": 2
}
